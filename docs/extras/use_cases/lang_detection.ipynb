{
 "cells": [
  {
   "cell_type": "markdown",
   "id": "d7889bc6-30c9-426b-80a8-9bc8d56354ea",
   "metadata": {},
   "source": [
    "# Language Detection\n",
    "[![Open In Collab](https://colab.research.google.com/assets/colab-badge.svg)](https://colab.research.google.com/github/langchain-ai/langchain/blob/master/docs/extras/use_cases/lang_detection.ipynb)"
   ]
  },
  {
   "cell_type": "markdown",
   "id": "4a778a1d-e9f8-483d-a475-f79369990b63",
   "metadata": {},
   "source": [
    "## Overview\n",
    "Language detectors allow you to use 2 following methods:\n",
    "1. detect_single_language - returns the language with the highest score obtained with the detection model,\n",
    "2. detect_many_languages - returns list of pairs consisting of language and corresponding score obtained by the model."
   ]
  },
  {
   "cell_type": "markdown",
   "id": "9a6a233c-5b0c-469d-8b4a-fd6ef762c018",
   "metadata": {},
   "source": [
    "## Quickstart"
   ]
  },
  {
   "cell_type": "markdown",
   "id": "d136ff69-e891-40f4-abd7-a3bdf7497115",
   "metadata": {},
   "source": [
    "## Langdetect\n",
    "Detect language of a text using naive Bayesian filter. Based on [langdetect](https://github.com/Mimino666/langdetect/tree/master).\n",
    "\n",
    "**Important!** It is **non-deterministic**!"
   ]
  },
  {
   "cell_type": "code",
   "execution_count": 1,
   "id": "c44f8459-ee49-4868-a98e-fac836489a85",
   "metadata": {},
   "outputs": [],
   "source": [
    "# Install necessary packages\n",
    "# ! pip install langdetect"
   ]
  },
  {
   "cell_type": "code",
   "execution_count": 1,
   "id": "448d85ba-a6f5-4c2d-98b0-1f8870257c69",
   "metadata": {},
   "outputs": [
    {
     "data": {
      "text/plain": [
       "'en'"
      ]
     },
     "execution_count": 1,
     "metadata": {},
     "output_type": "execute_result"
    }
   ],
   "source": [
    "from langchain_experimental.language_detector import LangDetector\n",
    "\n",
    "single_lang_text = \"Hello world, my name is John Doe\"\n",
    "\n",
    "lang_detector = LangDetector()\n",
    "lang_detector.detect_single_language(single_lang_text)"
   ]
  },
  {
   "cell_type": "code",
   "execution_count": 2,
   "id": "b38d3323-a5dd-422a-b6ee-16d36ca44755",
   "metadata": {},
   "outputs": [
    {
     "data": {
      "text/plain": [
       "[('en', 0.9999960541143158)]"
      ]
     },
     "execution_count": 2,
     "metadata": {},
     "output_type": "execute_result"
    }
   ],
   "source": [
    "lang_detector.detect_many_languages(single_lang_text)"
   ]
  },
  {
   "cell_type": "code",
   "execution_count": 3,
   "id": "cc9268cc-10d1-4d86-93db-f25b51754350",
   "metadata": {},
   "outputs": [
    {
     "data": {
      "text/plain": [
       "'es'"
      ]
     },
     "execution_count": 3,
     "metadata": {},
     "output_type": "execute_result"
    }
   ],
   "source": [
    "many_langs_text = \"Hello world! Me lammo Sofía, soy Madrileña. Auf Wiedersehen!\"\n",
    "lang_detector.detect_single_language(many_langs_text)"
   ]
  },
  {
   "cell_type": "code",
   "execution_count": 4,
   "id": "ec38c689-2104-4740-88b3-7e67fec48fc0",
   "metadata": {},
   "outputs": [
    {
     "data": {
      "text/plain": [
       "[('en', 0.42857171350680073),\n",
       " ('de', 0.28571366795891734),\n",
       " ('es', 0.28571347103642913)]"
      ]
     },
     "execution_count": 4,
     "metadata": {},
     "output_type": "execute_result"
    }
   ],
   "source": [
    "lang_detector.detect_many_languages(many_langs_text)"
   ]
  },
  {
   "cell_type": "markdown",
   "id": "d9241e0e-4efc-441f-8b54-e1dd044f3ba9",
   "metadata": {},
   "source": [
    "## Fasttext\n",
    "Model trained on data from Wikipedia, Tatoeba and SETimes.\n",
    "\n",
    "**Important!** \n",
    "- In order to use it, download the model file from: https://dl.fbaipublicfiles.com/fasttext/supervised-models/lid.176.ftz and copy it to `libs/experimental`.\n",
    "- It is **non-deterministic!**"
   ]
  },
  {
   "cell_type": "code",
   "execution_count": 5,
   "id": "1da070b3-723d-4c9b-8da8-633317b96704",
   "metadata": {},
   "outputs": [],
   "source": [
    "# Install necessary packages\n",
    "# ! pip install fasttext-wheel"
   ]
  },
  {
   "cell_type": "code",
   "execution_count": 7,
   "id": "8e7073d3-fca0-4965-adce-7e498680c539",
   "metadata": {},
   "outputs": [
    {
     "data": {
      "text/plain": [
       "'en'"
      ]
     },
     "execution_count": 7,
     "metadata": {},
     "output_type": "execute_result"
    }
   ],
   "source": [
    "from langchain_experimental.language_detector import FastTextDetector\n",
    "\n",
    "lang_detector = LangDetector()\n",
    "lang_detector.detect_single_language(single_lang_text)"
   ]
  },
  {
   "cell_type": "code",
   "execution_count": 8,
   "id": "4789de7b-adda-4a5b-9832-737812ed6f20",
   "metadata": {},
   "outputs": [
    {
     "data": {
      "text/plain": [
       "[('en', 0.9999956606835371)]"
      ]
     },
     "execution_count": 8,
     "metadata": {},
     "output_type": "execute_result"
    }
   ],
   "source": [
    "lang_detector.detect_many_languages(single_lang_text)"
   ]
  },
  {
   "cell_type": "code",
   "execution_count": 9,
   "id": "2ae50108-622b-4ba6-b9ca-618c6cded6d2",
   "metadata": {},
   "outputs": [
    {
     "data": {
      "text/plain": [
       "'en'"
      ]
     },
     "execution_count": 9,
     "metadata": {},
     "output_type": "execute_result"
    }
   ],
   "source": [
    "lang_detector.detect_single_language(many_langs_text)"
   ]
  },
  {
   "cell_type": "code",
   "execution_count": 10,
   "id": "147c0df7-434d-4f8a-b156-c26400ba724a",
   "metadata": {},
   "outputs": [
    {
     "data": {
      "text/plain": [
       "[('es', 0.42857084987893457),\n",
       " ('en', 0.4285704541672242),\n",
       " ('de', 0.14285796023051628)]"
      ]
     },
     "execution_count": 10,
     "metadata": {},
     "output_type": "execute_result"
    }
   ],
   "source": [
    "lang_detector.detect_many_languages(many_langs_text)"
   ]
  },
  {
   "cell_type": "markdown",
   "id": "43ca9050-1c5b-4fab-aa18-dc7120a97dae",
   "metadata": {},
   "source": [
    "## Usage in chain\n",
    "Language detection is particulary useful with the components that require selection of a language, e.g. text-to-speech or data anonymizer. "
   ]
  },
  {
   "cell_type": "markdown",
   "id": "4618c101-2269-42bd-9655-1e491051bd58",
   "metadata": {},
   "source": [
    "### Usage with data anonymizer\n",
    "Let's investigate how to join the functionalities of both modules."
   ]
  },
  {
   "cell_type": "code",
   "execution_count": 68,
   "id": "e219c166-50ea-47db-9c29-17b968e9f46b",
   "metadata": {},
   "outputs": [],
   "source": [
    "# Install other required packages\n",
    "# ! pip install presidio-analyzer presidio-anonymizer faker\n",
    "# ! python -m spacy download en_core_web_lg\n",
    "# ! python -m spacy download es_core_news_md"
   ]
  },
  {
   "cell_type": "code",
   "execution_count": 13,
   "id": "2c6b70fa-bad8-472e-a52e-861d7d71e37f",
   "metadata": {},
   "outputs": [],
   "source": [
    "from langchain.chat_models import ChatOpenAI\n",
    "from langchain.chains import TransformChain\n",
    "from langchain_experimental.data_anonymizer import PresidioReversibleAnonymizer\n",
    "\n",
    "languages_config = {\n",
    "    \"nlp_engine_name\": \"spacy\",\n",
    "    \"models\": [\n",
    "        {\"lang_code\": \"en\", \"model_name\": \"en_core_web_lg\"},\n",
    "        {\"lang_code\": \"es\", \"model_name\": \"es_core_news_sm\"},\n",
    "    ],\n",
    "}\n",
    "anonymizer = PresidioReversibleAnonymizer(languages_config=languages_config)\n",
    "llm = ChatOpenAI(temperature=0)"
   ]
  },
  {
   "cell_type": "code",
   "execution_count": 14,
   "id": "2d5ccf64-737f-49f4-883c-01836d52538f",
   "metadata": {},
   "outputs": [],
   "source": [
    "def lang_transform_func(inputs: dict) -> dict:\n",
    "    text = inputs[\"text\"]\n",
    "    language = lang_detector.detect_single_language(text)\n",
    "    return {\"text\": text, \"language\": language}\n",
    "\n",
    "\n",
    "lang_transform_chain = TransformChain(\n",
    "    input_variables=[\"text\"],\n",
    "    output_variables=[\"text\", \"language\"],\n",
    "    transform=lang_transform_func,\n",
    ")"
   ]
  },
  {
   "cell_type": "code",
   "execution_count": 15,
   "id": "696366b0-955d-4c55-9c8a-45dd5b9337ba",
   "metadata": {
    "scrolled": true
   },
   "outputs": [
    {
     "name": "stdout",
     "output_type": "stream",
     "text": [
      "Hello world, my name is John Doe\n"
     ]
    },
    {
     "data": {
      "text/plain": [
       "AIMessage(content='Hello Mrs. Rebecca Smith DDS! How can I assist you today?', additional_kwargs={}, example=False)"
      ]
     },
     "execution_count": 15,
     "metadata": {},
     "output_type": "execute_result"
    }
   ],
   "source": [
    "print(single_lang_text)\n",
    "chain = (\n",
    "    lang_transform_chain\n",
    "    | (lambda x: anonymizer.anonymize(x[\"text\"], language=x[\"language\"]))\n",
    "    | llm\n",
    ")\n",
    "chain.invoke(single_lang_text)"
   ]
  },
  {
   "cell_type": "markdown",
   "id": "c903663f-e76e-4a79-b6c1-0e963cf42b4b",
   "metadata": {},
   "source": [
    "As it was expected the entity called \"John Doe\" was anonymized. \n",
    "\n",
    "However, english language is the default one. Let's see how the anonimyzation works for spanish."
   ]
  },
  {
   "cell_type": "code",
   "execution_count": 16,
   "id": "3bfc0326-f84d-4c8b-99e5-850e53af7fc0",
   "metadata": {},
   "outputs": [
    {
     "name": "stdout",
     "output_type": "stream",
     "text": [
      "Hola el mundo, Yo soy Sofia Lopez\n"
     ]
    },
    {
     "data": {
      "text/plain": [
       "AIMessage(content='¡Hola Angela Cook! ¿En qué puedo ayudarte hoy?', additional_kwargs={}, example=False)"
      ]
     },
     "execution_count": 16,
     "metadata": {},
     "output_type": "execute_result"
    }
   ],
   "source": [
    "es_lang_text = \"Hola el mundo, Yo soy Sofia Lopez\"\n",
    "print(es_lang_text)\n",
    "chain.invoke(es_lang_text)"
   ]
  },
  {
   "cell_type": "markdown",
   "id": "df4d2016-ae8d-476e-8db0-fe780d0ad070",
   "metadata": {},
   "source": [
    "We can see that \"Sofia Lopez\" was anonymized as a single entity."
   ]
  },
  {
   "cell_type": "code",
   "execution_count": 17,
   "id": "dd6a7412-53df-48da-9f3b-82549c5c6d45",
   "metadata": {},
   "outputs": [
    {
     "data": {
      "text/plain": [
       "{'PERSON': {'Mrs. Rebecca Smith DDS': 'John Doe',\n",
       "  'Angela Cook': 'Sofia Lopez'}}"
      ]
     },
     "execution_count": 17,
     "metadata": {},
     "output_type": "execute_result"
    }
   ],
   "source": [
    "anonymizer._deanonymizer_mapping.data"
   ]
  },
  {
   "cell_type": "markdown",
   "id": "54123f29-dc6d-4028-8f5b-aa2f90a4bcc5",
   "metadata": {},
   "source": [
    "Let's compare it with the anonymizer set to the default english language."
   ]
  },
  {
   "cell_type": "code",
   "execution_count": 18,
   "id": "ebd409f8-ca64-4a3e-9102-722c1f247d53",
   "metadata": {},
   "outputs": [
    {
     "data": {
      "text/plain": [
       "AIMessage(content='¡Hola Timothy y Lisa! ¿Cómo están? ¿En qué puedo ayudarles hoy?', additional_kwargs={}, example=False)"
      ]
     },
     "execution_count": 18,
     "metadata": {},
     "output_type": "execute_result"
    }
   ],
   "source": [
    "bare_anonymizer = PresidioReversibleAnonymizer(languages_config=languages_config)\n",
    "bare_chain = bare_anonymizer.anonymize | llm\n",
    "bare_chain.invoke(es_lang_text)"
   ]
  },
  {
   "cell_type": "markdown",
   "id": "b56b06db-da02-44ff-a94f-db662ccb5a9c",
   "metadata": {},
   "source": [
    "This time, both \"Yo soy\" and \"Sofia Lopez\" were recognized as PERSON entities and got anonymized."
   ]
  },
  {
   "cell_type": "code",
   "execution_count": 19,
   "id": "b4b90610-c865-4075-b9d9-2ac9a2286d61",
   "metadata": {
    "scrolled": true
   },
   "outputs": [
    {
     "data": {
      "text/plain": [
       "{'PERSON': {'Timothy Sweeney': 'Yo soy', 'Lisa Hicks': 'Sofia Lopez'}}"
      ]
     },
     "execution_count": 19,
     "metadata": {},
     "output_type": "execute_result"
    }
   ],
   "source": [
    "bare_anonymizer._deanonymizer_mapping.data"
   ]
  }
 ],
 "metadata": {
  "kernelspec": {
   "display_name": "Python 3 (ipykernel)",
   "language": "python",
   "name": "python3"
  },
  "language_info": {
   "codemirror_mode": {
    "name": "ipython",
    "version": 3
   },
   "file_extension": ".py",
   "mimetype": "text/x-python",
   "name": "python",
   "nbconvert_exporter": "python",
   "pygments_lexer": "ipython3",
   "version": "3.9.16"
  }
 },
 "nbformat": 4,
 "nbformat_minor": 5
}
